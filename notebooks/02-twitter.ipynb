{
 "cells": [
  {
   "cell_type": "markdown",
   "metadata": {},
   "source": [
    "# Twitter\n",
    "\n",
    "---\n",
    "\n",
    "Group name: Gruppe G (Thomas Wolpert, Sven Ritzmann)\n",
    "\n",
    "---\n"
   ]
  },
  {
   "cell_type": "markdown",
   "metadata": {},
   "source": [
    "### Import Libraries"
   ]
  },
  {
   "cell_type": "code",
   "execution_count": 6,
   "metadata": {},
   "outputs": [],
   "source": [
    "import tweepy"
   ]
  },
  {
   "cell_type": "markdown",
   "metadata": {},
   "source": [
    "### Import the keys"
   ]
  },
  {
   "cell_type": "code",
   "execution_count": 7,
   "metadata": {},
   "outputs": [],
   "source": [
    "from keys import *"
   ]
  },
  {
   "cell_type": "markdown",
   "metadata": {},
   "source": [
    "### Use the keys in the function tweepy.Client"
   ]
  },
  {
   "cell_type": "code",
   "execution_count": 8,
   "metadata": {},
   "outputs": [],
   "source": [
    "import requests\n",
    "\n",
    "client = tweepy.Client( bearer_token=bearer_token, \n",
    "                        consumer_key=consumer_key, \n",
    "                        consumer_secret=consumer_secret, \n",
    "                        access_token=access_token, \n",
    "                        access_token_secret=access_token_secret, \n",
    "                        return_type = requests.Response,\n",
    "                        wait_on_rate_limit=True)"
   ]
  },
  {
   "cell_type": "markdown",
   "metadata": {},
   "source": [
    "### Create Query from Chosen Twitter-Account"
   ]
  },
  {
   "cell_type": "code",
   "execution_count": 9,
   "metadata": {},
   "outputs": [],
   "source": [
    "# Create query and exclude retweets\n",
    "my_query = 'from:WIRED -is:retweet'"
   ]
  },
  {
   "cell_type": "markdown",
   "metadata": {},
   "source": [
    "### Get Tweets from Twitter-Account"
   ]
  },
  {
   "cell_type": "code",
   "execution_count": 10,
   "metadata": {},
   "outputs": [],
   "source": [
    "# Obtain tweets using the defined query from above\n",
    "tweets = client.search_recent_tweets(query=my_query,    \n",
    "                                     tweet_fields=['author_id', 'created_at'],\n",
    "                                     max_results=100)"
   ]
  },
  {
   "cell_type": "markdown",
   "metadata": {},
   "source": [
    "### Create a Pandas Dataframe"
   ]
  },
  {
   "cell_type": "code",
   "execution_count": 11,
   "metadata": {},
   "outputs": [],
   "source": [
    "import pandas as pd\n",
    "\n",
    "# Save data as dictionary\n",
    "tweets_dict = tweets.json() \n",
    "\n",
    "# Extract \"data\" value from dictionary\n",
    "tweets_data = tweets_dict['data'] \n",
    "\n",
    "# Transform to pandas Dataframe\n",
    "df = pd.json_normalize(tweets_data) \n"
   ]
  },
  {
   "cell_type": "markdown",
   "metadata": {},
   "source": [
    "### Show DataFrame"
   ]
  },
  {
   "cell_type": "code",
   "execution_count": 12,
   "metadata": {},
   "outputs": [
    {
     "data": {
      "text/html": [
       "<div>\n",
       "<style scoped>\n",
       "    .dataframe tbody tr th:only-of-type {\n",
       "        vertical-align: middle;\n",
       "    }\n",
       "\n",
       "    .dataframe tbody tr th {\n",
       "        vertical-align: top;\n",
       "    }\n",
       "\n",
       "    .dataframe thead th {\n",
       "        text-align: right;\n",
       "    }\n",
       "</style>\n",
       "<table border=\"1\" class=\"dataframe\">\n",
       "  <thead>\n",
       "    <tr style=\"text-align: right;\">\n",
       "      <th></th>\n",
       "      <th>text</th>\n",
       "      <th>edit_history_tweet_ids</th>\n",
       "      <th>created_at</th>\n",
       "      <th>author_id</th>\n",
       "      <th>id</th>\n",
       "    </tr>\n",
       "  </thead>\n",
       "  <tbody>\n",
       "    <tr>\n",
       "      <th>0</th>\n",
       "      <td>What do you do when the object of your study b...</td>\n",
       "      <td>[1594020218916917249]</td>\n",
       "      <td>2022-11-19T17:30:10.000Z</td>\n",
       "      <td>1344951</td>\n",
       "      <td>1594020218916917249</td>\n",
       "    </tr>\n",
       "    <tr>\n",
       "      <th>1</th>\n",
       "      <td>Some fans of AI art worry about the effect of ...</td>\n",
       "      <td>[1594012712194940928]</td>\n",
       "      <td>2022-11-19T17:00:20.000Z</td>\n",
       "      <td>1344951</td>\n",
       "      <td>1594012712194940928</td>\n",
       "    </tr>\n",
       "    <tr>\n",
       "      <th>2</th>\n",
       "      <td>Anyone with a compatible iPhone has one more o...</td>\n",
       "      <td>[1594005091350085637]</td>\n",
       "      <td>2022-11-19T16:30:03.000Z</td>\n",
       "      <td>1344951</td>\n",
       "      <td>1594005091350085637</td>\n",
       "    </tr>\n",
       "    <tr>\n",
       "      <th>3</th>\n",
       "      <td>Having all the high-end tech in the world won'...</td>\n",
       "      <td>[1593996763840618498]</td>\n",
       "      <td>2022-11-19T15:56:58.000Z</td>\n",
       "      <td>1344951</td>\n",
       "      <td>1593996763840618498</td>\n",
       "    </tr>\n",
       "    <tr>\n",
       "      <th>4</th>\n",
       "      <td>Subscribe toSubscribe to WIRED and get your fi...</td>\n",
       "      <td>[1593993439074549762]</td>\n",
       "      <td>2022-11-19T15:43:45.000Z</td>\n",
       "      <td>1344951</td>\n",
       "      <td>1593993439074549762</td>\n",
       "    </tr>\n",
       "    <tr>\n",
       "      <th>...</th>\n",
       "      <td>...</td>\n",
       "      <td>...</td>\n",
       "      <td>...</td>\n",
       "      <td>...</td>\n",
       "      <td>...</td>\n",
       "    </tr>\n",
       "    <tr>\n",
       "      <th>95</th>\n",
       "      <td>This week on Gadget Lab, WIRED security writer...</td>\n",
       "      <td>[1593303041997869057]</td>\n",
       "      <td>2022-11-17T18:00:22.000Z</td>\n",
       "      <td>1344951</td>\n",
       "      <td>1593303041997869057</td>\n",
       "    </tr>\n",
       "    <tr>\n",
       "      <th>96</th>\n",
       "      <td>Finding therapy and support when you're alread...</td>\n",
       "      <td>[1593295919151255552]</td>\n",
       "      <td>2022-11-17T17:32:03.000Z</td>\n",
       "      <td>1344951</td>\n",
       "      <td>1593295919151255552</td>\n",
       "    </tr>\n",
       "    <tr>\n",
       "      <th>97</th>\n",
       "      <td>Researchers say no one is responding to their ...</td>\n",
       "      <td>[1593288882665177092]</td>\n",
       "      <td>2022-11-17T17:04:06.000Z</td>\n",
       "      <td>1344951</td>\n",
       "      <td>1593288882665177092</td>\n",
       "    </tr>\n",
       "    <tr>\n",
       "      <th>98</th>\n",
       "      <td>Researchers have now directly observed what ha...</td>\n",
       "      <td>[1593280825784688643]</td>\n",
       "      <td>2022-11-17T16:32:05.000Z</td>\n",
       "      <td>1344951</td>\n",
       "      <td>1593280825784688643</td>\n",
       "    </tr>\n",
       "    <tr>\n",
       "      <th>99</th>\n",
       "      <td>Constant use is going to take a toll on your k...</td>\n",
       "      <td>[1593274283072966656]</td>\n",
       "      <td>2022-11-17T16:06:05.000Z</td>\n",
       "      <td>1344951</td>\n",
       "      <td>1593274283072966656</td>\n",
       "    </tr>\n",
       "  </tbody>\n",
       "</table>\n",
       "<p>100 rows × 5 columns</p>\n",
       "</div>"
      ],
      "text/plain": [
       "                                                 text edit_history_tweet_ids  \\\n",
       "0   What do you do when the object of your study b...  [1594020218916917249]   \n",
       "1   Some fans of AI art worry about the effect of ...  [1594012712194940928]   \n",
       "2   Anyone with a compatible iPhone has one more o...  [1594005091350085637]   \n",
       "3   Having all the high-end tech in the world won'...  [1593996763840618498]   \n",
       "4   Subscribe toSubscribe to WIRED and get your fi...  [1593993439074549762]   \n",
       "..                                                ...                    ...   \n",
       "95  This week on Gadget Lab, WIRED security writer...  [1593303041997869057]   \n",
       "96  Finding therapy and support when you're alread...  [1593295919151255552]   \n",
       "97  Researchers say no one is responding to their ...  [1593288882665177092]   \n",
       "98  Researchers have now directly observed what ha...  [1593280825784688643]   \n",
       "99  Constant use is going to take a toll on your k...  [1593274283072966656]   \n",
       "\n",
       "                  created_at author_id                   id  \n",
       "0   2022-11-19T17:30:10.000Z   1344951  1594020218916917249  \n",
       "1   2022-11-19T17:00:20.000Z   1344951  1594012712194940928  \n",
       "2   2022-11-19T16:30:03.000Z   1344951  1594005091350085637  \n",
       "3   2022-11-19T15:56:58.000Z   1344951  1593996763840618498  \n",
       "4   2022-11-19T15:43:45.000Z   1344951  1593993439074549762  \n",
       "..                       ...       ...                  ...  \n",
       "95  2022-11-17T18:00:22.000Z   1344951  1593303041997869057  \n",
       "96  2022-11-17T17:32:03.000Z   1344951  1593295919151255552  \n",
       "97  2022-11-17T17:04:06.000Z   1344951  1593288882665177092  \n",
       "98  2022-11-17T16:32:05.000Z   1344951  1593280825784688643  \n",
       "99  2022-11-17T16:06:05.000Z   1344951  1593274283072966656  \n",
       "\n",
       "[100 rows x 5 columns]"
      ]
     },
     "execution_count": 12,
     "metadata": {},
     "output_type": "execute_result"
    }
   ],
   "source": [
    "df"
   ]
  },
  {
   "cell_type": "markdown",
   "metadata": {},
   "source": [
    "### Save results as a CSV-file"
   ]
  },
  {
   "cell_type": "code",
   "execution_count": null,
   "metadata": {},
   "outputs": [],
   "source": [
    "# save df in folder\n",
    "df.to_csv(\"twitter.csv\")"
   ]
  }
 ],
 "metadata": {
  "kernelspec": {
   "display_name": "Python 3.9.13 ('twitter')",
   "language": "python",
   "name": "python3"
  },
  "language_info": {
   "codemirror_mode": {
    "name": "ipython",
    "version": 3
   },
   "file_extension": ".py",
   "mimetype": "text/x-python",
   "name": "python",
   "nbconvert_exporter": "python",
   "pygments_lexer": "ipython3",
   "version": "3.9.13"
  },
  "orig_nbformat": 4,
  "vscode": {
   "interpreter": {
    "hash": "30a1fca9bd40b38922c6c2142b2c687098068e55d752a3417eeb114778ab1fff"
   }
  }
 },
 "nbformat": 4,
 "nbformat_minor": 2
}
